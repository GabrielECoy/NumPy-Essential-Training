{
 "cells": [
  {
   "cell_type": "markdown",
   "id": "023df0f1",
   "metadata": {},
   "source": [
    "### Copies and views"
   ]
  },
  {
   "cell_type": "code",
   "execution_count": 1,
   "id": "dc7e979d",
   "metadata": {},
   "outputs": [],
   "source": [
    "import numpy as np"
   ]
  },
  {
   "cell_type": "code",
   "execution_count": 2,
   "id": "2fe67f1c",
   "metadata": {},
   "outputs": [
    {
     "data": {
      "text/plain": [
       "array([1111, 1212, 1313, 1414, 1515, 1616, 1717, 1818])"
      ]
     },
     "execution_count": 2,
     "metadata": {},
     "output_type": "execute_result"
    }
   ],
   "source": [
    "students_ids_number=np.array([1111,1212,1313,1414,1515,1616,1717,1818])\n",
    "students_ids_number"
   ]
  },
  {
   "cell_type": "code",
   "execution_count": 3,
   "id": "cc834eff",
   "metadata": {},
   "outputs": [
    {
     "name": "stdout",
     "output_type": "stream",
     "text": [
      "id of students_ids_number 140313891242320\n",
      "id of students_ids_number_reg 140313891242320\n"
     ]
    }
   ],
   "source": [
    "students_ids_number_reg=students_ids_number\n",
    "print(\"id of students_ids_number\",id(students_ids_number))\n",
    "print(\"id of students_ids_number_reg\",id(students_ids_number_reg))"
   ]
  },
  {
   "cell_type": "code",
   "execution_count": 4,
   "id": "5a8ad3a9",
   "metadata": {},
   "outputs": [
    {
     "name": "stdout",
     "output_type": "stream",
     "text": [
      "[1111 2222 1313 1414 1515 1616 1717 1818]\n",
      "[1111 2222 1313 1414 1515 1616 1717 1818]\n"
     ]
    }
   ],
   "source": [
    "students_ids_number_reg[1]=2222\n",
    "print(students_ids_number)\n",
    "print(students_ids_number_reg)"
   ]
  },
  {
   "cell_type": "code",
   "execution_count": 5,
   "id": "bc0120e0",
   "metadata": {},
   "outputs": [],
   "source": [
    "students_ids_number_cp=students_ids_number.copy()"
   ]
  },
  {
   "cell_type": "code",
   "execution_count": 6,
   "id": "b0d97ec6",
   "metadata": {},
   "outputs": [
    {
     "name": "stdout",
     "output_type": "stream",
     "text": [
      "[1111 2222 1313 1414 1515 1616 1717 1818]\n"
     ]
    }
   ],
   "source": [
    "print(students_ids_number_cp)"
   ]
  },
  {
   "cell_type": "code",
   "execution_count": 7,
   "id": "7c9e8f5c",
   "metadata": {},
   "outputs": [
    {
     "name": "stdout",
     "output_type": "stream",
     "text": [
      "[ True  True  True  True  True  True  True  True]\n"
     ]
    }
   ],
   "source": [
    "print(students_ids_number_cp==students_ids_number)"
   ]
  },
  {
   "cell_type": "code",
   "execution_count": 8,
   "id": "97df2450",
   "metadata": {},
   "outputs": [
    {
     "name": "stdout",
     "output_type": "stream",
     "text": [
      "id of students_ids_number 140313891242320\n",
      "id of students_ids_number_cp 140313896668112\n"
     ]
    }
   ],
   "source": [
    "print (\"id of students_ids_number\",id(students_ids_number))\n",
    "print(\"id of students_ids_number_cp\",id(students_ids_number_cp))"
   ]
  },
  {
   "cell_type": "code",
   "execution_count": 13,
   "id": "77e23745",
   "metadata": {},
   "outputs": [
    {
     "name": "stdout",
     "output_type": "stream",
     "text": [
      "original:  [1000 2222 1313 1414 1515 1616 1717 1818]\n",
      "copy:  [1111 2222 1313 1414 1515 1616 1717 1818]\n"
     ]
    }
   ],
   "source": [
    "students_ids_number[0]=1000\n",
    "print (\"original: \", students_ids_number)\n",
    "print(\"copy: \",students_ids_number_cp)"
   ]
  },
  {
   "cell_type": "code",
   "execution_count": 14,
   "id": "59ba9ed6",
   "metadata": {},
   "outputs": [],
   "source": [
    "students_ids_number_v=students_ids_number.view()"
   ]
  },
  {
   "cell_type": "code",
   "execution_count": 15,
   "id": "96d7e73f",
   "metadata": {},
   "outputs": [
    {
     "name": "stdout",
     "output_type": "stream",
     "text": [
      "original:  [2000 2222 1313 1414 1515 1616 1717 1818]\n",
      "view: [2000 2222 1313 1414 1515 1616 1717 1818]\n"
     ]
    }
   ],
   "source": [
    "students_ids_number_v[0]=2000\n",
    "print(\"original: \", students_ids_number)\n",
    "print(\"view:\",students_ids_number_v)"
   ]
  },
  {
   "cell_type": "code",
   "execution_count": 17,
   "id": "792ef847",
   "metadata": {},
   "outputs": [
    {
     "name": "stdout",
     "output_type": "stream",
     "text": [
      "None\n",
      "[2000 2222 1313 1414 1515 1616 1717 1818]\n"
     ]
    }
   ],
   "source": [
    "print(students_ids_number_cp.base)\n",
    "print(students_ids_number_v.base)"
   ]
  },
  {
   "cell_type": "code",
   "execution_count": 1,
   "id": "64602443",
   "metadata": {},
   "outputs": [
    {
     "name": "stdout",
     "output_type": "stream",
     "text": [
      "============================================================\n",
      "UNDERSTANDING THE DIFFERENCE: .view() vs Direct Assignment\n",
      "============================================================\n",
      "\n",
      "1. DIRECT ASSIGNMENT (students_ids_number_v = students_ids_number)\n",
      "------------------------------------------------------------\n",
      "original:    [1 2 3 4 5]\n",
      "direct_ref:  [1 2 3 4 5]\n",
      "original id:    2372927211536\n",
      "direct_ref id:  2372927211536\n",
      "Are they the EXACT same object? True\n",
      "\n",
      "2. VIEW ASSIGNMENT (students_ids_number_v = students_ids_number.view())\n",
      "------------------------------------------------------------\n",
      "original:   [1 2 3 4 5]\n",
      "view_ref:   [1 2 3 4 5]\n",
      "original id:   2372927211536\n",
      "view_ref id:   2370857675984\n",
      "Are they the EXACT same object? False\n",
      "Do they share the same data? True\n",
      "\n",
      "============================================================\n",
      "ANALOGY: Think of it like a house\n",
      "============================================================\n",
      "Direct assignment: Two people have keys to the SAME house\n",
      "View:             Two DIFFERENT houses built on the SAME foundation\n",
      "\n",
      "============================================================\n",
      "TEST 1: Modifying data through each reference\n",
      "============================================================\n",
      "Before modification:\n",
      "original:   [1 2 3 4 5]\n",
      "direct_ref: [1 2 3 4 5]\n",
      "view_ref:   [1 2 3 4 5]\n",
      "\n",
      "After direct_ref[0] = 999:\n",
      "original:   [999   2   3   4   5]\n",
      "direct_ref: [999   2   3   4   5]\n",
      "view_ref:   [999   2   3   4   5]\n",
      "\n",
      "After view_ref[1] = 888:\n",
      "original:   [999 888   3   4   5]\n",
      "direct_ref: [999 888   3   4   5]\n",
      "view_ref:   [999 888   3   4   5]\n",
      "\n",
      "============================================================\n",
      "TEST 2: What happens when we reassign the original variable?\n",
      "============================================================\n",
      "Initial state:\n",
      "original:   [10 20 30]\n",
      "direct_ref: [10 20 30]\n",
      "view_ref:   [10 20 30]\n",
      "\n",
      "After: original = np.array([100, 200, 300, 400])\n",
      "original:   [100 200 300 400]\n",
      "direct_ref: [10 20 30]\n",
      "view_ref:   [10 20 30]\n",
      "\n",
      "Are direct_ref and view_ref still the same? False\n",
      "Do they still share memory? True\n",
      "\n",
      "============================================================\n",
      "SUMMARY: When does the difference matter?\n",
      "============================================================\n",
      "For most daily operations: NO difference\n",
      "- Both allow you to modify the underlying data\n",
      "- Both reflect changes made through the original\n",
      "\n",
      "The difference matters for:\n",
      "- Identity checks (using 'is')\n",
      "- Understanding object relationships in memory\n",
      "- Debugging complex array operations\n",
      "- Understanding NumPy's memory management\n",
      "\n",
      "============================================================\n",
      "PRACTICAL RECOMMENDATION\n",
      "============================================================\n",
      "Use .view() when you want to make it EXPLICIT that you're\n",
      "creating a new array object that shares data\n",
      "\n",
      "Use direct assignment when you just want another name\n",
      "for the same object (most common case)\n"
     ]
    }
   ],
   "source": [
    "import numpy as np\n",
    "\n",
    "print(\"=\"*60)\n",
    "print(\"UNDERSTANDING THE DIFFERENCE: .view() vs Direct Assignment\")\n",
    "print(\"=\"*60)\n",
    "\n",
    "# Start fresh\n",
    "original = np.array([1, 2, 3, 4, 5])\n",
    "\n",
    "print(\"\\n1. DIRECT ASSIGNMENT (students_ids_number_v = students_ids_number)\")\n",
    "print(\"-\" * 60)\n",
    "\n",
    "# Direct assignment - just another name for the SAME object\n",
    "direct_ref = original\n",
    "print(f\"original:    {original}\")\n",
    "print(f\"direct_ref:  {direct_ref}\")\n",
    "print(f\"original id:    {id(original)}\")\n",
    "print(f\"direct_ref id:  {id(direct_ref)}\")\n",
    "print(f\"Are they the EXACT same object? {original is direct_ref}\")  # True!\n",
    "\n",
    "print(\"\\n2. VIEW ASSIGNMENT (students_ids_number_v = students_ids_number.view())\")\n",
    "print(\"-\" * 60)\n",
    "\n",
    "# View - creates a NEW object that looks at the same data\n",
    "view_ref = original.view()\n",
    "print(f\"original:   {original}\")\n",
    "print(f\"view_ref:   {view_ref}\")\n",
    "print(f\"original id:   {id(original)}\")\n",
    "print(f\"view_ref id:   {id(view_ref)}\")\n",
    "print(f\"Are they the EXACT same object? {original is view_ref}\")  # False!\n",
    "print(f\"Do they share the same data? {np.shares_memory(original, view_ref)}\")  # True!\n",
    "\n",
    "print(\"\\n\" + \"=\"*60)\n",
    "print(\"ANALOGY: Think of it like a house\")\n",
    "print(\"=\"*60)\n",
    "print(\"Direct assignment: Two people have keys to the SAME house\")\n",
    "print(\"View:             Two DIFFERENT houses built on the SAME foundation\")\n",
    "\n",
    "print(\"\\n\" + \"=\"*60)\n",
    "print(\"TEST 1: Modifying data through each reference\")\n",
    "print(\"=\"*60)\n",
    "\n",
    "# Reset\n",
    "original = np.array([1, 2, 3, 4, 5])\n",
    "direct_ref = original\n",
    "view_ref = original.view()\n",
    "\n",
    "print(\"Before modification:\")\n",
    "print(f\"original:   {original}\")\n",
    "print(f\"direct_ref: {direct_ref}\")\n",
    "print(f\"view_ref:   {view_ref}\")\n",
    "\n",
    "# Modify through direct reference\n",
    "direct_ref[0] = 999\n",
    "print(f\"\\nAfter direct_ref[0] = 999:\")\n",
    "print(f\"original:   {original}\")    # Changed!\n",
    "print(f\"direct_ref: {direct_ref}\")  # Changed!\n",
    "print(f\"view_ref:   {view_ref}\")    # Also changed!\n",
    "\n",
    "# Modify through view\n",
    "view_ref[1] = 888\n",
    "print(f\"\\nAfter view_ref[1] = 888:\")\n",
    "print(f\"original:   {original}\")    # Changed!\n",
    "print(f\"direct_ref: {direct_ref}\")  # Changed!\n",
    "print(f\"view_ref:   {view_ref}\")    # Changed!\n",
    "\n",
    "print(\"\\n\" + \"=\"*60)\n",
    "print(\"TEST 2: What happens when we reassign the original variable?\")\n",
    "print(\"=\"*60)\n",
    "\n",
    "# Reset everything\n",
    "original = np.array([10, 20, 30])\n",
    "direct_ref = original           # Points to same object\n",
    "view_ref = original.view()      # New object, shares data\n",
    "\n",
    "print(\"Initial state:\")\n",
    "print(f\"original:   {original}\")\n",
    "print(f\"direct_ref: {direct_ref}\")\n",
    "print(f\"view_ref:   {view_ref}\")\n",
    "\n",
    "# Now reassign 'original' to point to completely new data\n",
    "old_data = original  # Keep reference to old data\n",
    "original = np.array([100, 200, 300, 400])\n",
    "\n",
    "print(f\"\\nAfter: original = np.array([100, 200, 300, 400])\")\n",
    "print(f\"original:   {original}\")      # New array\n",
    "print(f\"direct_ref: {direct_ref}\")    # Still points to OLD array [10,20,30]\n",
    "print(f\"view_ref:   {view_ref}\")      # Still points to OLD array [10,20,30]\n",
    "\n",
    "print(f\"\\nAre direct_ref and view_ref still the same? {direct_ref is view_ref}\")  # False\n",
    "print(f\"Do they still share memory? {np.shares_memory(direct_ref, view_ref)}\")   # True\n",
    "\n",
    "print(\"\\n\" + \"=\"*60)\n",
    "print(\"SUMMARY: When does the difference matter?\")\n",
    "print(\"=\"*60)\n",
    "print(\"For most daily operations: NO difference\")\n",
    "print(\"- Both allow you to modify the underlying data\")\n",
    "print(\"- Both reflect changes made through the original\")\n",
    "print(\"\")\n",
    "print(\"The difference matters for:\")\n",
    "print(\"- Identity checks (using 'is')\")\n",
    "print(\"- Understanding object relationships in memory\") \n",
    "print(\"- Debugging complex array operations\")\n",
    "print(\"- Understanding NumPy's memory management\")\n",
    "\n",
    "print(\"\\n\" + \"=\"*60)\n",
    "print(\"PRACTICAL RECOMMENDATION\")\n",
    "print(\"=\"*60)\n",
    "print(\"Use .view() when you want to make it EXPLICIT that you're\")\n",
    "print(\"creating a new array object that shares data\")\n",
    "print(\"\")\n",
    "print(\"Use direct assignment when you just want another name\")\n",
    "print(\"for the same object (most common case)\")"
   ]
  },
  {
   "cell_type": "code",
   "execution_count": null,
   "id": "d4675a41",
   "metadata": {},
   "outputs": [],
   "source": []
  }
 ],
 "metadata": {
  "kernelspec": {
   "display_name": "Python [conda env:base] *",
   "language": "python",
   "name": "conda-base-py"
  },
  "language_info": {
   "codemirror_mode": {
    "name": "ipython",
    "version": 3
   },
   "file_extension": ".py",
   "mimetype": "text/x-python",
   "name": "python",
   "nbconvert_exporter": "python",
   "pygments_lexer": "ipython3",
   "version": "3.13.5"
  }
 },
 "nbformat": 4,
 "nbformat_minor": 5
}
