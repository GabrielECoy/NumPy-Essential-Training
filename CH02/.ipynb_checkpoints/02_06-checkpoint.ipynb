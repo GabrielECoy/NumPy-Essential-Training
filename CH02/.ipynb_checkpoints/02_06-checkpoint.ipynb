{
 "cells": [
  {
   "cell_type": "markdown",
   "id": "8493338c",
   "metadata": {},
   "source": [
    "###  Finding the shape and size of an array"
   ]
  },
  {
   "cell_type": "code",
   "execution_count": 1,
   "id": "d0f23187",
   "metadata": {},
   "outputs": [],
   "source": [
    "import numpy as np"
   ]
  },
  {
   "cell_type": "code",
   "execution_count": 2,
   "id": "7c28c5aa",
   "metadata": {},
   "outputs": [
    {
     "data": {
      "text/plain": [
       "array([ 0,  1,  2,  3,  4,  5,  6,  7,  8,  9, 10, 11, 12, 13, 14, 15, 16,\n",
       "       17, 18, 19])"
      ]
     },
     "execution_count": 2,
     "metadata": {},
     "output_type": "execute_result"
    }
   ],
   "source": [
    "first_arr=np.arange(20)\n",
    "first_arr"
   ]
  },
  {
   "cell_type": "code",
   "execution_count": 3,
   "id": "2ae82fd6-3f1e-4619-80c5-787148b127b8",
   "metadata": {},
   "outputs": [
    {
     "data": {
      "text/plain": [
       "array([[ 1.,  2.,  3.],\n",
       "       [ 2.,  4.,  6.],\n",
       "       [ 3.,  6.,  9.],\n",
       "       [ 4.,  8., 12.],\n",
       "       [ 5., 10., 15.],\n",
       "       [ 6., 12., 18.],\n",
       "       [ 7., 14., 21.],\n",
       "       [ 8., 16., 24.],\n",
       "       [ 9., 18., 27.],\n",
       "       [10., 20., 30.]])"
      ]
     },
     "execution_count": 3,
     "metadata": {},
     "output_type": "execute_result"
    }
   ],
   "source": [
    "second_arr=np.linspace((1,2,3),(10,20,30),10)\n",
    "second_arr"
   ]
  },
  {
   "cell_type": "code",
   "execution_count": 4,
   "id": "aef879c9",
   "metadata": {
    "scrolled": true
   },
   "outputs": [
    {
     "data": {
      "text/plain": [
       "array([[ 1.        ,  1.        ,  1.        ],\n",
       "       [ 2.        ,  3.11111111,  4.22222222],\n",
       "       [ 3.        ,  5.22222222,  7.44444444],\n",
       "       [ 4.        ,  7.33333333, 10.66666667],\n",
       "       [ 5.        ,  9.44444444, 13.88888889],\n",
       "       [ 6.        , 11.55555556, 17.11111111],\n",
       "       [ 7.        , 13.66666667, 20.33333333],\n",
       "       [ 8.        , 15.77777778, 23.55555556],\n",
       "       [ 9.        , 17.88888889, 26.77777778],\n",
       "       [10.        , 20.        , 30.        ]])"
      ]
     },
     "execution_count": 4,
     "metadata": {},
     "output_type": "execute_result"
    }
   ],
   "source": [
    "second_arr2=np.linspace((1),(10,20,30),10) # Uses 1 as start for all 3 dimensions\n",
    "second_arr2"
   ]
  },
  {
   "cell_type": "code",
   "execution_count": 5,
   "id": "c01ac91d",
   "metadata": {},
   "outputs": [
    {
     "data": {
      "text/plain": [
       "array([[[10, 10],\n",
       "        [10, 10]],\n",
       "\n",
       "       [[10, 10],\n",
       "        [10, 10]]])"
      ]
     },
     "execution_count": 5,
     "metadata": {},
     "output_type": "execute_result"
    }
   ],
   "source": [
    "third_arr=np.full((2,2,2),10)\n",
    "third_arr"
   ]
  },
  {
   "cell_type": "code",
   "execution_count": 6,
   "id": "5e1da470",
   "metadata": {},
   "outputs": [
    {
     "data": {
      "text/plain": [
       "(20,)"
      ]
     },
     "execution_count": 6,
     "metadata": {},
     "output_type": "execute_result"
    }
   ],
   "source": [
    "np.shape(first_arr)"
   ]
  },
  {
   "cell_type": "code",
   "execution_count": 7,
   "id": "db2bb089",
   "metadata": {},
   "outputs": [
    {
     "data": {
      "text/plain": [
       "(10, 3)"
      ]
     },
     "execution_count": 7,
     "metadata": {},
     "output_type": "execute_result"
    }
   ],
   "source": [
    "np.shape(second_arr)"
   ]
  },
  {
   "cell_type": "code",
   "execution_count": 8,
   "id": "b4981768",
   "metadata": {},
   "outputs": [
    {
     "data": {
      "text/plain": [
       "(2, 2, 2)"
      ]
     },
     "execution_count": 8,
     "metadata": {},
     "output_type": "execute_result"
    }
   ],
   "source": [
    "np.shape(third_arr)"
   ]
  },
  {
   "cell_type": "code",
   "execution_count": 9,
   "id": "f3b7ec4e",
   "metadata": {},
   "outputs": [
    {
     "data": {
      "text/plain": [
       "20"
      ]
     },
     "execution_count": 9,
     "metadata": {},
     "output_type": "execute_result"
    }
   ],
   "source": [
    "np.size(first_arr)"
   ]
  },
  {
   "cell_type": "code",
   "execution_count": 10,
   "id": "09c4d3f8",
   "metadata": {},
   "outputs": [
    {
     "data": {
      "text/plain": [
       "30"
      ]
     },
     "execution_count": 10,
     "metadata": {},
     "output_type": "execute_result"
    }
   ],
   "source": [
    "np.size(second_arr)"
   ]
  },
  {
   "cell_type": "code",
   "execution_count": 11,
   "id": "a33495c8",
   "metadata": {},
   "outputs": [
    {
     "data": {
      "text/plain": [
       "8"
      ]
     },
     "execution_count": 11,
     "metadata": {},
     "output_type": "execute_result"
    }
   ],
   "source": [
    "np.size(third_arr)"
   ]
  },
  {
   "cell_type": "code",
   "execution_count": null,
   "id": "923df229",
   "metadata": {},
   "outputs": [],
   "source": []
  }
 ],
 "metadata": {
  "kernelspec": {
   "display_name": "Python [conda env:base] *",
   "language": "python",
   "name": "conda-base-py"
  },
  "language_info": {
   "codemirror_mode": {
    "name": "ipython",
    "version": 3
   },
   "file_extension": ".py",
   "mimetype": "text/x-python",
   "name": "python",
   "nbconvert_exporter": "python",
   "pygments_lexer": "ipython3",
   "version": "3.13.5"
  }
 },
 "nbformat": 4,
 "nbformat_minor": 5
}
