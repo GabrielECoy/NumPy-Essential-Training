{
 "cells": [
  {
   "cell_type": "code",
   "execution_count": 1,
   "id": "231ffaec-b824-469f-97a8-d5cfda5250b2",
   "metadata": {},
   "outputs": [],
   "source": [
    "# Code Cell"
   ]
  },
  {
   "cell_type": "raw",
   "id": "2d6b9d7e-baf7-4977-b7eb-981f6161f8e0",
   "metadata": {},
   "source": [
    "Raw Cell"
   ]
  },
  {
   "cell_type": "markdown",
   "id": "59c34f17-3d85-482e-bc41-86dab119c5b3",
   "metadata": {},
   "source": [
    "Markdown cell"
   ]
  },
  {
   "cell_type": "code",
   "execution_count": 2,
   "id": "802d8bb6-bd0b-4526-88ee-ca78c922debb",
   "metadata": {},
   "outputs": [
    {
     "name": "stdout",
     "output_type": "stream",
     "text": [
      "don pepe\n"
     ]
    }
   ],
   "source": [
    "print('don pepe')"
   ]
  },
  {
   "cell_type": "code",
   "execution_count": 3,
   "id": "63610482-c6e9-4f04-a145-c6eff76a5103",
   "metadata": {},
   "outputs": [
    {
     "data": {
      "text/plain": [
       "23.857142857142858"
      ]
     },
     "execution_count": 3,
     "metadata": {},
     "output_type": "execute_result"
    }
   ],
   "source": [
    "25-8/7"
   ]
  },
  {
   "cell_type": "code",
   "execution_count": null,
   "id": "d0cc23d4-30b6-4e9f-8b2f-c47bad355abc",
   "metadata": {},
   "outputs": [],
   "source": []
  }
 ],
 "metadata": {
  "kernelspec": {
   "display_name": "Python [conda env:base] *",
   "language": "python",
   "name": "conda-base-py"
  },
  "language_info": {
   "codemirror_mode": {
    "name": "ipython",
    "version": 3
   },
   "file_extension": ".py",
   "mimetype": "text/x-python",
   "name": "python",
   "nbconvert_exporter": "python",
   "pygments_lexer": "ipython3",
   "version": "3.13.5"
  }
 },
 "nbformat": 4,
 "nbformat_minor": 5
}
